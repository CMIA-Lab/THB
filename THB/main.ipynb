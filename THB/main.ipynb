{
 "cells": [
  {
   "cell_type": "code",
   "execution_count": 1,
   "metadata": {},
   "outputs": [],
   "source": [
    "from space import Space\n",
    "from THB_core import *\n",
    "from datastructures import *\n",
    "from funcs import *\n",
    "from THB_utils import *\n",
    "import matplotlib.pyplot as plt\n",
    "import numpy as np"
   ]
  },
  {
   "cell_type": "code",
   "execution_count": 2,
   "metadata": {},
   "outputs": [],
   "source": [
    "bs1 = BSpline(knotvector=np.array([0, 0, 0, 0.2, 0.4, 0.6, 0.8, 1, 1, 1]), degree=2)\n",
    "# bs2 = BSpline(knotvector=np.array([0, 0, 0, 0.2, 0.4, 0.6, 0.8, 1, 1, 1]), degree=2)\n",
    "\n",
    "bs2 = BSpline(knotvector=np.array([0, 0, 0, 0, 0.2, 0.4, 0.6, 0.8, 1, 1, 1, 1]), degree=3)\n",
    "# bs3 = BSpline(knotvector=np.array([0, 0, 0, 0.33, 0.66, 0.8, 1, 1, 1]), degree=2)\n",
    "\n",
    "tp = TensorProduct(bsplines=[bs1, bs2])"
   ]
  },
  {
   "cell_type": "code",
   "execution_count": 3,
   "metadata": {},
   "outputs": [],
   "source": [
    "h_space = Space(tensor_product=tp, num_levels=3)\n",
    "h_space.build_hierarchy_from_domain_sequence()\n",
    "ac_cells = compute_active_cells_active_supp(h_space.cells, h_space.fns, h_space.degrees)\n",
    "fn_coeffs = compute_fn_projection_matrices(h_space.fns, h_space.Coeff, h_space.degrees)"
   ]
  },
  {
   "cell_type": "code",
   "execution_count": 4,
   "metadata": {},
   "outputs": [],
   "source": [
    "coo = generate_parametric_coordinates((100, 100))\n",
    "CP0 = grevilleAbscissae(h_space.sh_fns[0], h_space.degrees, h_space.knotvectors[0])\n",
    "# CP1 = grevilleAbscissae(h_space.sh_fns[1], h_space.degrees, h_space.knotvectors[1])\n",
    "ndim = 2\n",
    "ctrl_pts = {lev: np.zeros((*h_space.sh_fns[lev], ndim)) for lev in range(3)}\n",
    "ctrl_pts[0] = CP0\n",
    "# ctrl_pts[1] = CP1\n",
    "CP = ControlPoints(h_space)\n",
    "ac_spans = compute_active_span(coo, h_space.knotvectors, h_space.cells, h_space.degrees, h_space.sh_fns)\n",
    "# PHI, num_supp = compute_tensor_product(coo, ac_spans, ac_cells, fn_coeffs, h_space.sh_fns, h_space.knotvectors, h_space.degrees)"
   ]
  },
  {
   "cell_type": "code",
   "execution_count": 5,
   "metadata": {},
   "outputs": [
    {
     "data": {
      "image/png": "[encoded data removed]",
      "text/plain": [
       "<Figure size 640x480 with 1 Axes>"
      ]
     },
     "metadata": {},
     "output_type": "display_data"
    }
   ],
   "source": [
    "h_space.refine_basis_fn((3,3), 0)\n",
    "h_space.build_hierarchy_from_domain_sequence()\n",
    "h_space.refine_basis_fn((4,4), 1)\n",
    "ac_cells = compute_active_cells_active_supp(h_space.cells, h_space.fns, h_space.degrees)\n",
    "fn_coeffs = compute_fn_projection_matrices(h_space.fns, h_space.Coeff, h_space.degrees)\n",
    "\n",
    "\n",
    "ac_spans = compute_active_span(coo, h_space.knotvectors, h_space.cells, h_space.degrees, h_space.sh_fns)\n",
    "# PHI, num_supp = compute_tensor_product(coo, ac_spans, ac_cells, fn_coeffs, h_space.sh_fns, h_space.knotvectors, h_space.degrees)\n",
    "# print(ac_spans[5555], PHI[5555], ac_cells[1][(5, 5)])\n",
    "\n",
    "plot = plt.subplots()\n",
    "plotGrid(plot, h_space.cells, h_space.knotvectors, h_space.degrees)"
   ]
  },
  {
   "cell_type": "code",
   "execution_count": 6,
   "metadata": {},
   "outputs": [
    {
     "data": {
      "image/png": "[encoded data removed]",
      "text/plain": [
       "<Figure size 640x480 with 1 Axes>"
      ]
     },
     "metadata": {},
     "output_type": "display_data"
    }
   ],
   "source": [
    "ctrl_pts = CP.update_CP(ctrl_pts, h_space.fns, h_space.Coeff)\n",
    "plot2DAdaptiveGrid(ac_cells, ctrl_pts, h_space.knotvectors, fn_coeffs, h_space.sh_fns, h_space.degrees)\n",
    "# output = evaluate(PHI, ctrl_pts, ac_spans, num_supp, ac_cells)\n",
    "# plt.scatter(output[:,0], output[:,1])\n",
    "# cp0 = ctrl_pts[0].reshape(-1, 2)\n",
    "# cp1 = ctrl_pts[1].reshape(-1, 2)\n",
    "# CP0 = CP0.reshape(-1, 2)\n",
    "# plt.scatter(CP0[:, 0], CP0[:, 1])\n",
    "# plt.scatter(cp1[:,0], cp1[:,1])"
   ]
  },
  {
   "cell_type": "code",
   "execution_count": 7,
   "metadata": {},
   "outputs": [
    {
     "name": "stdout",
     "output_type": "stream",
     "text": [
      "[1.000000e-05 3.500065e-01] (0, (0, 1))\n",
      "[(0, (0, 1)), (0, (0, 2)), (0, (0, 3)), (0, (0, 4)), (0, (1, 1)), (0, (1, 2)), (0, (1, 3)), (0, (1, 4)), (0, (2, 1)), (0, (2, 2)), (0, (2, 3)), (0, (2, 4))]\n"
     ]
    }
   ],
   "source": [
    "print(coo[3500], ac_spans[3500])\n",
    "print(ac_cells[0][0, 1])"
   ]
  }
 ],
 "metadata": {
  "kernelspec": {
   "display_name": "THB",
   "language": "python",
   "name": "python3"
  },
  "language_info": {
   "codemirror_mode": {
    "name": "ipython",
    "version": 3
   },
   "file_extension": ".py",
   "mimetype": "text/x-python",
   "name": "python",
   "nbconvert_exporter": "python",
   "pygments_lexer": "ipython3",
   "version": "3.10.13"
  }
 },
 "nbformat": 4,
 "nbformat_minor": 2
}
